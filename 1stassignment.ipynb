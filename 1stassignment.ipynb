{
 "cells": [
  {
   "cell_type": "markdown",
   "id": "6817a9e1",
   "metadata": {},
   "source": [
    "#  1) Write a Python program to get the Fibonacci series between 0 to 50\n",
    "\n",
    "\n",
    "\n",
    "Note : The Fibonacci Sequence is the series of numbers :\n",
    "\n",
    "0, 1, 1, 2, 3, 5, 8, 13, 21, ....\n",
    "\n",
    "Every next number is found by adding up the two numbers before it.\n",
    "\n",
    "Expected Output : 1 1 2 3 5 8 13 21 34"
   ]
  },
  {
   "cell_type": "code",
   "execution_count": 1,
   "id": "94b6d9ae",
   "metadata": {},
   "outputs": [
    {
     "name": "stdout",
     "output_type": "stream",
     "text": [
      "1 1 2 3 5 8 13 21 34 "
     ]
    }
   ],
   "source": [
    "n = 8\n",
    "s1 = 1\n",
    "s2 = 1\n",
    "count = 0\n",
    "while count <= n:\n",
    "    print(s1,end=\" \")\n",
    "    count+=1\n",
    "    shyam = s1 + s2\n",
    "    s1 = s2\n",
    "    s2 = shyam\n"
   ]
  },
  {
   "cell_type": "markdown",
   "id": "380e2906",
   "metadata": {},
   "source": [
    "# 2) Write a Python program that accepts a word from the user and reverse it.\n",
    "\n",
    "\n",
    "\n",
    "Sample Test Case\n",
    "\n",
    "\n",
    "\n",
    "Input : Edyoda\n",
    "\n",
    "output: adoydE\n",
    "\n"
   ]
  },
  {
   "cell_type": "code",
   "execution_count": 2,
   "id": "ff0e46cb",
   "metadata": {},
   "outputs": [
    {
     "name": "stdout",
     "output_type": "stream",
     "text": [
      "adoyde\n"
     ]
    }
   ],
   "source": [
    "s = 'edyoda'\n",
    "print(s[::-1])\n"
   ]
  },
  {
   "cell_type": "markdown",
   "id": "a296e6fc",
   "metadata": {},
   "source": [
    "# 3) Write a Python program to count the number of even and odd numbers from a series of numbers.\n",
    "\n",
    "\n",
    "\n",
    "Sample numbers : numbers = (1, 2, 3, 4, 5, 6, 7, 8, 9) \n",
    "\n",
    "Expected Output :\n",
    "\n",
    "Number of even numbers : 5\n",
    "\n",
    "Number of odd numbers : 4"
   ]
  },
  {
   "cell_type": "code",
   "execution_count": 3,
   "id": "46c76c34",
   "metadata": {},
   "outputs": [
    {
     "name": "stdout",
     "output_type": "stream",
     "text": [
      "number of even numbers are =  4\n",
      "no of odd numbers are =  5\n"
     ]
    }
   ],
   "source": [
    "numbers = (1, 2, 3, 4, 5, 6, 7, 8, 9)\n",
    "count = 0\n",
    "count_1 = 0\n",
    "for i in numbers:\n",
    "    if i%2 == 0:\n",
    "        count += 1\n",
    "    if i%2 != 0:\n",
    "        count_1 += 1\n",
    "print('number of even numbers are = ',count)\n",
    "print('no of odd numbers are = ', count_1)\n",
    "\n"
   ]
  },
  {
   "cell_type": "code",
   "execution_count": null,
   "id": "324a7f36",
   "metadata": {},
   "outputs": [],
   "source": []
  }
 ],
 "metadata": {
  "kernelspec": {
   "display_name": "Python 3 (ipykernel)",
   "language": "python",
   "name": "python3"
  },
  "language_info": {
   "codemirror_mode": {
    "name": "ipython",
    "version": 3
   },
   "file_extension": ".py",
   "mimetype": "text/x-python",
   "name": "python",
   "nbconvert_exporter": "python",
   "pygments_lexer": "ipython3",
   "version": "3.9.6"
  }
 },
 "nbformat": 4,
 "nbformat_minor": 5
}
